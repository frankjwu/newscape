{
 "metadata": {
  "name": ""
 },
 "nbformat": 3,
 "nbformat_minor": 0,
 "worksheets": [
  {
   "cells": [
    {
     "cell_type": "code",
     "collapsed": false,
     "input": [
      "import pylab, matplotlib, numpy, scipy"
     ],
     "language": "python",
     "metadata": {},
     "outputs": [],
     "prompt_number": 2
    },
    {
     "cell_type": "code",
     "collapsed": false,
     "input": [
      "import json, pickle"
     ],
     "language": "python",
     "metadata": {},
     "outputs": [],
     "prompt_number": 5
    },
    {
     "cell_type": "code",
     "collapsed": false,
     "input": [
      "##PLAN:\n",
      "#place = location coordinates that the tweet is about\n",
      "#coordinates = geographic location of the tweet\n",
      "#favorited + retweeted amount combo = popularity"
     ],
     "language": "python",
     "metadata": {},
     "outputs": [],
     "prompt_number": 6
    },
    {
     "cell_type": "code",
     "collapsed": false,
     "input": [
      "#For the identification of a user\n",
      "#\"user\", \"id\", \"screen_name"
     ],
     "language": "python",
     "metadata": {},
     "outputs": [],
     "prompt_number": 8
    },
    {
     "cell_type": "code",
     "collapsed": false,
     "input": [
      "##created_at"
     ],
     "language": "python",
     "metadata": {},
     "outputs": []
    },
    {
     "cell_type": "heading",
     "level": 1,
     "metadata": {},
     "source": [
      "GRAB COORDINATES"
     ]
    },
    {
     "cell_type": "code",
     "collapsed": false,
     "input": [
      "import re"
     ],
     "language": "python",
     "metadata": {},
     "outputs": [],
     "prompt_number": 18
    },
    {
     "cell_type": "code",
     "collapsed": false,
     "input": [
      "def removeStuff(string):\n",
      "    string = string.split('\\n')"
     ],
     "language": "python",
     "metadata": {},
     "outputs": [],
     "prompt_number": 13
    },
    {
     "cell_type": "code",
     "collapsed": false,
     "input": [
      "removeStuff"
     ],
     "language": "python",
     "metadata": {},
     "outputs": []
    },
    {
     "cell_type": "code",
     "collapsed": false,
     "input": [
      "def createHashPerTweet(giantHash):\n",
      "    \n",
      "    "
     ],
     "language": "python",
     "metadata": {},
     "outputs": []
    },
    {
     "cell_type": "code",
     "collapsed": false,
     "input": [
      "z = '{      \"completed_in\":0.031,      \"max_id\":122078461840982016,      \"max_id_str\":\"122078461840982016\",      \"next_page\":\"?page=2&max_id=122078461840982016&q=blue%20angels&rpp=5\",      \"page\":1,      \"query\":\"blue+angels\",      \"refresh_url\":\"?since_id=122078461840982016&q=blue%20angels\",      \"results\":[        {          \"created_at\":\"Thu, 06 Oct 2011 19:36:17 +0000\",          \"entities\":{            \"urls\":[              {                \"url\":\"http://t.co/L9JXJ2ee\",                \"expanded_url\":\"http://bit.ly/q9fyz9\",                \"display_url\":\"bit.ly/q9fyz9\",                \"indices\":[                  37,                  57                ]              }            ]          },          \"from_user\":\"SFist\",          \"from_user_id\":14093707,          \"from_user_id_str\":\"14093707\",          \"geo\":null,          \"id\":122032448266698752,          \"id_str\":\"122032448266698752\",          \"iso_language_code\":\"en\",          \"metadata\":{            \"recent_retweets\":3,            \"result_type\":\"popular\"          },          \"profile_image_url\":\"http://a3.twimg.com/profile_images/51584619/SFist07_normal.jpg\",          \"source\":\"&lt;a href=&quot;http://twitter.com/tweetbutton&quot; rel=&quot;nofollow&quot;&gt;Tweet Button&lt;/a&gt;\",          \"text\":\"Reminder: Blue Angels practice today http://t.co/L9JXJ2ee\",          \"to_user_id\":null,          \"to_user_id_str\":null        },        {          \"created_at\":\"Thu, 06 Oct 2011 19:41:12 +0000\",          \"entities\":{               },          \"from_user\":\"masters212\",          \"from_user_id\":2242041,          \"from_user_id_str\":\"2242041\",          \"geo\":null,          \"id\":122033683212419072,          \"id_str\":\"122033683212419072\",          \"iso_language_code\":\"en\",          \"metadata\":{            \"recent_retweets\":1,            \"result_type\":\"popular\"          },          \"profile_image_url\":\"http://a3.twimg.com/profile_images/488532540/rachel25final_normal.jpg\",          \"source\":\"&lt;a href=&quot;http://twitter.com/&quot;&gt;web&lt;/a&gt;\",          \"text\":\"Starting to hear Blue Angels... Not such angels with all of the noise and carbon pollution.\",          \"to_user_id\":null,          \"to_user_id_str\":null        },        {          \"created_at\":\"Thu, 06 Oct 2011 19:39:52 +0000\",          \"entities\":{               },          \"from_user\":\"SFBayBridge\",          \"from_user_id\":182107587,          \"from_user_id_str\":\"182107587\",          \"geo\":null,          \"id\":122033350327279617,          \"id_str\":\"122033350327279617\",          \"iso_language_code\":\"en\",          \"metadata\":{            \"recent_retweets\":1,            \"result_type\":\"popular\"          },          \"profile_image_url\":\"http://a0.twimg.com/profile_images/1162882917/bbtwitternew_normal.jpg\",          \"source\":\"&lt;a href=&quot;http://twitter.com/&quot;&gt;web&lt;/a&gt;\",          \"text\":\"BZZZzzzZzZzzzZZZZZzZz WHAT? I CANT HEAR YOU. THERE ARE BLUE ANGELS. ZZZzzZZZ!\",          \"to_user_id\":null,          \"to_user_id_str\":null        },        {          \"created_at\":\"Thu, 06 Oct 2011 22:39:08 +0000\",          \"entities\":{               },          \"from_user\":\"OnDST\",          \"from_user_id\":265656068,          \"from_user_id_str\":\"265656068\",          \"geo\":null,          \"id\":122078461840982016,          \"id_str\":\"122078461840982016\",          \"iso_language_code\":\"nl\",          \"metadata\":{            \"result_type\":\"recent\"          },          \"profile_image_url\":\"http://a3.twimg.com/profile_images/1271597598/OnDST_normal.jpg\",          \"source\":\"&lt;a href=&quot;http://dlvr.it&quot; rel=&quot;nofollow&quot;&gt;dlvr.it&lt;/a&gt;\",          \"text\":\"SF Fleet Week to open with Blue Angels flyovers | Student ...\",          \"to_user_id\":null,          \"to_user_id_str\":null        },        {          \"created_at\":\"Thu, 06 Oct 2011 22:38:51 +0000\",          \"entities\":{               },          \"from_user\":\"gusbumper\",          \"from_user_id\":15912539,          \"from_user_id_str\":\"15912539\",          \"geo\":null,          \"id\":122078393641603072,          \"id_str\":\"122078393641603072\",          \"iso_language_code\":\"en\",          \"metadata\":{            \"result_type\":\"recent\"          },          \"profile_image_url\":\"http://a2.twimg.com/profile_images/832286946/pho_normal.jpg\",          \"source\":\"&lt;a href=&quot;http://itunes.apple.com/us/app/twitter/id409789998?mt=12&quot; rel=&quot;nofollow&quot;&gt;Twitter for Mac&lt;/a&gt;\",          \"text\":\"RT @gzahnd: WAKE UP HIPPIES, THE BLUE ANGELS ARE IN TOWN!\",          \"to_user_id\":null,          \"to_user_id_str\":null        },        {          \"created_at\":\"Thu, 06 Oct 2011 22:38:31 +0000\",          \"entities\":{               },          \"from_user\":\"LUVTQUILT\",          \"from_user_id\":32653550,          \"from_user_id_str\":\"32653550\",          \"geo\":null,          \"id\":122078309004742656,          \"id_str\":\"122078309004742656\",          \"iso_language_code\":\"en\",          \"metadata\":{            \"result_type\":\"recent\"          },          \"profile_image_url\":\"http://a1.twimg.com/profile_images/1188428056/IMG00007-20100521-1647_1__normal.jpg\",          \"source\":\"&lt;a href=&quot;http://ubersocial.com&quot; rel=&quot;nofollow&quot;&gt;\\u00DCberSocial for BlackBerry&lt;/a&gt;\",          \"text\":\"Thursday - Just watched the Blue Angels practice over SF Bay Impressive! What a background.  GGB & Alcatraz. ;) .\",          \"to_user_id\":null,          \"to_user_id_str\":null        },        {          \"created_at\":\"Thu, 06 Oct 2011 22:38:22 +0000\",          \"entities\":{            \"urls\":[              {                \"url\":\"http://t.co/fyL8Rs5f\",                \"expanded_url\":\"http://dlvr.it/pfFfj\",                \"display_url\":\"dlvr.it/pfFfj\",                \"indices\":[                  52,                  72                ]              }            ]          },          \"from_user\":\"johnnyfuncheap\",          \"from_user_id\":20717004,          \"from_user_id_str\":\"20717004\",          \"geo\":null,          \"id\":122078271478317056,          \"id_str\":\"122078271478317056\",          \"iso_language_code\":\"en\",          \"metadata\":{            \"result_type\":\"recent\"          },          \"profile_image_url\":\"http://a0.twimg.com/profile_images/1130541908/funcheap_icon_twitter_normal.gif\",          \"source\":\"&lt;a href=&quot;http://dlvr.it&quot; rel=&quot;nofollow&quot;&gt;dlvr.it&lt;/a&gt;\",          \"text\":\"10/8/11: Blue Angels Wine Tasting | Treasure Island http://t.co/fyL8Rs5f\",          \"to_user_id\":null,          \"to_user_id_str\":null        },        {          \"created_at\":\"Thu, 06 Oct 2011 22:37:28 +0000\",          \"entities\":{            \"urls\":[              {                \"url\":\"http://t.co/KfzEqOWM\",                \"expanded_url\":\"http://married2travel.com/2600/san-francisco-day3-golden-gate-park-pier-39-blue-angels/\",                \"display_url\":\"married2travel.com/2600/san-franc\\u2026\",                \"indices\":[                  47,                  67                ]              }            ]          },          \"from_user\":\"espenorio\",          \"from_user_id\":52736683,          \"from_user_id_str\":\"52736683\",          \"geo\":null,          \"id\":122078043664695296,          \"id_str\":\"122078043664695296\",          \"iso_language_code\":\"en\",          \"metadata\":{            \"result_type\":\"recent\"          },          \"profile_image_url\":\"http://a0.twimg.com/profile_images/1574863913/sheil_normal.png\",          \"source\":\"&lt;a href=&quot;http://twitter.com/&quot;&gt;web&lt;/a&gt;\",          \"text\":\"San Francisco 2010 Fleet week photos and video http://t.co/KfzEqOWM\",          \"to_user_id\":null,          \"to_user_id_str\":null        }      ],      \"results_per_page\":5,      \"since_id\":0,      \"since_id_str\":\"0\"    }'"
     ],
     "language": "python",
     "metadata": {},
     "outputs": [],
     "prompt_number": 16
    },
    {
     "cell_type": "code",
     "collapsed": false,
     "input": [
      "z = re.sub('\\s+',' ',z)"
     ],
     "language": "python",
     "metadata": {},
     "outputs": [],
     "prompt_number": 21
    },
    {
     "cell_type": "code",
     "collapsed": false,
     "input": [
      "z"
     ],
     "language": "python",
     "metadata": {},
     "outputs": [
      {
       "metadata": {},
       "output_type": "pyout",
       "prompt_number": 22,
       "text": [
        "'{ \"completed_in\":0.031, \"max_id\":122078461840982016, \"max_id_str\":\"122078461840982016\", \"next_page\":\"?page=2&max_id=122078461840982016&q=blue%20angels&rpp=5\", \"page\":1, \"query\":\"blue+angels\", \"refresh_url\":\"?since_id=122078461840982016&q=blue%20angels\", \"results\":[ { \"created_at\":\"Thu, 06 Oct 2011 19:36:17 +0000\", \"entities\":{ \"urls\":[ { \"url\":\"http://t.co/L9JXJ2ee\", \"expanded_url\":\"http://bit.ly/q9fyz9\", \"display_url\":\"bit.ly/q9fyz9\", \"indices\":[ 37, 57 ] } ] }, \"from_user\":\"SFist\", \"from_user_id\":14093707, \"from_user_id_str\":\"14093707\", \"geo\":null, \"id\":122032448266698752, \"id_str\":\"122032448266698752\", \"iso_language_code\":\"en\", \"metadata\":{ \"recent_retweets\":3, \"result_type\":\"popular\" }, \"profile_image_url\":\"http://a3.twimg.com/profile_images/51584619/SFist07_normal.jpg\", \"source\":\"&lt;a href=&quot;http://twitter.com/tweetbutton&quot; rel=&quot;nofollow&quot;&gt;Tweet Button&lt;/a&gt;\", \"text\":\"Reminder: Blue Angels practice today http://t.co/L9JXJ2ee\", \"to_user_id\":null, \"to_user_id_str\":null }, { \"created_at\":\"Thu, 06 Oct 2011 19:41:12 +0000\", \"entities\":{ }, \"from_user\":\"masters212\", \"from_user_id\":2242041, \"from_user_id_str\":\"2242041\", \"geo\":null, \"id\":122033683212419072, \"id_str\":\"122033683212419072\", \"iso_language_code\":\"en\", \"metadata\":{ \"recent_retweets\":1, \"result_type\":\"popular\" }, \"profile_image_url\":\"http://a3.twimg.com/profile_images/488532540/rachel25final_normal.jpg\", \"source\":\"&lt;a href=&quot;http://twitter.com/&quot;&gt;web&lt;/a&gt;\", \"text\":\"Starting to hear Blue Angels... Not such angels with all of the noise and carbon pollution.\", \"to_user_id\":null, \"to_user_id_str\":null }, { \"created_at\":\"Thu, 06 Oct 2011 19:39:52 +0000\", \"entities\":{ }, \"from_user\":\"SFBayBridge\", \"from_user_id\":182107587, \"from_user_id_str\":\"182107587\", \"geo\":null, \"id\":122033350327279617, \"id_str\":\"122033350327279617\", \"iso_language_code\":\"en\", \"metadata\":{ \"recent_retweets\":1, \"result_type\":\"popular\" }, \"profile_image_url\":\"http://a0.twimg.com/profile_images/1162882917/bbtwitternew_normal.jpg\", \"source\":\"&lt;a href=&quot;http://twitter.com/&quot;&gt;web&lt;/a&gt;\", \"text\":\"BZZZzzzZzZzzzZZZZZzZz WHAT? I CANT HEAR YOU. THERE ARE BLUE ANGELS. ZZZzzZZZ!\", \"to_user_id\":null, \"to_user_id_str\":null }, { \"created_at\":\"Thu, 06 Oct 2011 22:39:08 +0000\", \"entities\":{ }, \"from_user\":\"OnDST\", \"from_user_id\":265656068, \"from_user_id_str\":\"265656068\", \"geo\":null, \"id\":122078461840982016, \"id_str\":\"122078461840982016\", \"iso_language_code\":\"nl\", \"metadata\":{ \"result_type\":\"recent\" }, \"profile_image_url\":\"http://a3.twimg.com/profile_images/1271597598/OnDST_normal.jpg\", \"source\":\"&lt;a href=&quot;http://dlvr.it&quot; rel=&quot;nofollow&quot;&gt;dlvr.it&lt;/a&gt;\", \"text\":\"SF Fleet Week to open with Blue Angels flyovers | Student ...\", \"to_user_id\":null, \"to_user_id_str\":null }, { \"created_at\":\"Thu, 06 Oct 2011 22:38:51 +0000\", \"entities\":{ }, \"from_user\":\"gusbumper\", \"from_user_id\":15912539, \"from_user_id_str\":\"15912539\", \"geo\":null, \"id\":122078393641603072, \"id_str\":\"122078393641603072\", \"iso_language_code\":\"en\", \"metadata\":{ \"result_type\":\"recent\" }, \"profile_image_url\":\"http://a2.twimg.com/profile_images/832286946/pho_normal.jpg\", \"source\":\"&lt;a href=&quot;http://itunes.apple.com/us/app/twitter/id409789998?mt=12&quot; rel=&quot;nofollow&quot;&gt;Twitter for Mac&lt;/a&gt;\", \"text\":\"RT @gzahnd: WAKE UP HIPPIES, THE BLUE ANGELS ARE IN TOWN!\", \"to_user_id\":null, \"to_user_id_str\":null }, { \"created_at\":\"Thu, 06 Oct 2011 22:38:31 +0000\", \"entities\":{ }, \"from_user\":\"LUVTQUILT\", \"from_user_id\":32653550, \"from_user_id_str\":\"32653550\", \"geo\":null, \"id\":122078309004742656, \"id_str\":\"122078309004742656\", \"iso_language_code\":\"en\", \"metadata\":{ \"result_type\":\"recent\" }, \"profile_image_url\":\"http://a1.twimg.com/profile_images/1188428056/IMG00007-20100521-1647_1__normal.jpg\", \"source\":\"&lt;a href=&quot;http://ubersocial.com&quot; rel=&quot;nofollow&quot;&gt;\\\\u00DCberSocial for BlackBerry&lt;/a&gt;\", \"text\":\"Thursday - Just watched the Blue Angels practice over SF Bay Impressive! What a background. GGB & Alcatraz. ;) .\", \"to_user_id\":null, \"to_user_id_str\":null }, { \"created_at\":\"Thu, 06 Oct 2011 22:38:22 +0000\", \"entities\":{ \"urls\":[ { \"url\":\"http://t.co/fyL8Rs5f\", \"expanded_url\":\"http://dlvr.it/pfFfj\", \"display_url\":\"dlvr.it/pfFfj\", \"indices\":[ 52, 72 ] } ] }, \"from_user\":\"johnnyfuncheap\", \"from_user_id\":20717004, \"from_user_id_str\":\"20717004\", \"geo\":null, \"id\":122078271478317056, \"id_str\":\"122078271478317056\", \"iso_language_code\":\"en\", \"metadata\":{ \"result_type\":\"recent\" }, \"profile_image_url\":\"http://a0.twimg.com/profile_images/1130541908/funcheap_icon_twitter_normal.gif\", \"source\":\"&lt;a href=&quot;http://dlvr.it&quot; rel=&quot;nofollow&quot;&gt;dlvr.it&lt;/a&gt;\", \"text\":\"10/8/11: Blue Angels Wine Tasting | Treasure Island http://t.co/fyL8Rs5f\", \"to_user_id\":null, \"to_user_id_str\":null }, { \"created_at\":\"Thu, 06 Oct 2011 22:37:28 +0000\", \"entities\":{ \"urls\":[ { \"url\":\"http://t.co/KfzEqOWM\", \"expanded_url\":\"http://married2travel.com/2600/san-francisco-day3-golden-gate-park-pier-39-blue-angels/\", \"display_url\":\"married2travel.com/2600/san-franc\\\\u2026\", \"indices\":[ 47, 67 ] } ] }, \"from_user\":\"espenorio\", \"from_user_id\":52736683, \"from_user_id_str\":\"52736683\", \"geo\":null, \"id\":122078043664695296, \"id_str\":\"122078043664695296\", \"iso_language_code\":\"en\", \"metadata\":{ \"result_type\":\"recent\" }, \"profile_image_url\":\"http://a0.twimg.com/profile_images/1574863913/sheil_normal.png\", \"source\":\"&lt;a href=&quot;http://twitter.com/&quot;&gt;web&lt;/a&gt;\", \"text\":\"San Francisco 2010 Fleet week photos and video http://t.co/KfzEqOWM\", \"to_user_id\":null, \"to_user_id_str\":null } ], \"results_per_page\":5, \"since_id\":0, \"since_id_str\":\"0\" }'"
       ]
      }
     ],
     "prompt_number": 22
    },
    {
     "cell_type": "code",
     "collapsed": false,
     "input": [
      "import json"
     ],
     "language": "python",
     "metadata": {},
     "outputs": [],
     "prompt_number": 23
    },
    {
     "cell_type": "code",
     "collapsed": false,
     "input": [
      "x = json.loads(z)"
     ],
     "language": "python",
     "metadata": {},
     "outputs": [],
     "prompt_number": 95
    },
    {
     "cell_type": "code",
     "collapsed": false,
     "input": [
      "x"
     ],
     "language": "python",
     "metadata": {},
     "outputs": [
      {
       "metadata": {},
       "output_type": "pyout",
       "prompt_number": 41,
       "text": [
        "{u'completed_in': 0.031,\n",
        " u'max_id': 122078461840982016,\n",
        " u'max_id_str': u'122078461840982016',\n",
        " u'next_page': u'?page=2&max_id=122078461840982016&q=blue%20angels&rpp=5',\n",
        " u'page': 1,\n",
        " u'query': u'blue+angels',\n",
        " u'refresh_url': u'?since_id=122078461840982016&q=blue%20angels',\n",
        " u'results': [{u'created_at': u'Thu, 06 Oct 2011 19:36:17 +0000',\n",
        "   u'entities': {u'urls': [{u'display_url': u'bit.ly/q9fyz9',\n",
        "      u'expanded_url': u'http://bit.ly/q9fyz9',\n",
        "      u'indices': [37, 57],\n",
        "      u'url': u'http://t.co/L9JXJ2ee'}]},\n",
        "   u'from_user': u'SFist',\n",
        "   u'from_user_id': 14093707,\n",
        "   u'from_user_id_str': u'14093707',\n",
        "   u'geo': None,\n",
        "   u'id': 122032448266698752,\n",
        "   u'id_str': u'122032448266698752',\n",
        "   u'iso_language_code': u'en',\n",
        "   u'metadata': {u'recent_retweets': 3, u'result_type': u'popular'},\n",
        "   u'profile_image_url': u'http://a3.twimg.com/profile_images/51584619/SFist07_normal.jpg',\n",
        "   u'source': u'&lt;a href=&quot;http://twitter.com/tweetbutton&quot; rel=&quot;nofollow&quot;&gt;Tweet Button&lt;/a&gt;',\n",
        "   u'text': u'Reminder: Blue Angels practice today http://t.co/L9JXJ2ee',\n",
        "   u'to_user_id': None,\n",
        "   u'to_user_id_str': None},\n",
        "  {u'created_at': u'Thu, 06 Oct 2011 19:41:12 +0000',\n",
        "   u'entities': {},\n",
        "   u'from_user': u'masters212',\n",
        "   u'from_user_id': 2242041,\n",
        "   u'from_user_id_str': u'2242041',\n",
        "   u'geo': None,\n",
        "   u'id': 122033683212419072,\n",
        "   u'id_str': u'122033683212419072',\n",
        "   u'iso_language_code': u'en',\n",
        "   u'metadata': {u'recent_retweets': 1, u'result_type': u'popular'},\n",
        "   u'profile_image_url': u'http://a3.twimg.com/profile_images/488532540/rachel25final_normal.jpg',\n",
        "   u'source': u'&lt;a href=&quot;http://twitter.com/&quot;&gt;web&lt;/a&gt;',\n",
        "   u'text': u'Starting to hear Blue Angels... Not such angels with all of the noise and carbon pollution.',\n",
        "   u'to_user_id': None,\n",
        "   u'to_user_id_str': None},\n",
        "  {u'created_at': u'Thu, 06 Oct 2011 19:39:52 +0000',\n",
        "   u'entities': {},\n",
        "   u'from_user': u'SFBayBridge',\n",
        "   u'from_user_id': 182107587,\n",
        "   u'from_user_id_str': u'182107587',\n",
        "   u'geo': None,\n",
        "   u'id': 122033350327279617,\n",
        "   u'id_str': u'122033350327279617',\n",
        "   u'iso_language_code': u'en',\n",
        "   u'metadata': {u'recent_retweets': 1, u'result_type': u'popular'},\n",
        "   u'profile_image_url': u'http://a0.twimg.com/profile_images/1162882917/bbtwitternew_normal.jpg',\n",
        "   u'source': u'&lt;a href=&quot;http://twitter.com/&quot;&gt;web&lt;/a&gt;',\n",
        "   u'text': u'BZZZzzzZzZzzzZZZZZzZz WHAT? I CANT HEAR YOU. THERE ARE BLUE ANGELS. ZZZzzZZZ!',\n",
        "   u'to_user_id': None,\n",
        "   u'to_user_id_str': None},\n",
        "  {u'created_at': u'Thu, 06 Oct 2011 22:39:08 +0000',\n",
        "   u'entities': {},\n",
        "   u'from_user': u'OnDST',\n",
        "   u'from_user_id': 265656068,\n",
        "   u'from_user_id_str': u'265656068',\n",
        "   u'geo': None,\n",
        "   u'id': 122078461840982016,\n",
        "   u'id_str': u'122078461840982016',\n",
        "   u'iso_language_code': u'nl',\n",
        "   u'metadata': {u'result_type': u'recent'},\n",
        "   u'profile_image_url': u'http://a3.twimg.com/profile_images/1271597598/OnDST_normal.jpg',\n",
        "   u'source': u'&lt;a href=&quot;http://dlvr.it&quot; rel=&quot;nofollow&quot;&gt;dlvr.it&lt;/a&gt;',\n",
        "   u'text': u'SF Fleet Week to open with Blue Angels flyovers | Student ...',\n",
        "   u'to_user_id': None,\n",
        "   u'to_user_id_str': None},\n",
        "  {u'created_at': u'Thu, 06 Oct 2011 22:38:51 +0000',\n",
        "   u'entities': {},\n",
        "   u'from_user': u'gusbumper',\n",
        "   u'from_user_id': 15912539,\n",
        "   u'from_user_id_str': u'15912539',\n",
        "   u'geo': None,\n",
        "   u'id': 122078393641603072,\n",
        "   u'id_str': u'122078393641603072',\n",
        "   u'iso_language_code': u'en',\n",
        "   u'metadata': {u'result_type': u'recent'},\n",
        "   u'profile_image_url': u'http://a2.twimg.com/profile_images/832286946/pho_normal.jpg',\n",
        "   u'source': u'&lt;a href=&quot;http://itunes.apple.com/us/app/twitter/id409789998?mt=12&quot; rel=&quot;nofollow&quot;&gt;Twitter for Mac&lt;/a&gt;',\n",
        "   u'text': u'RT @gzahnd: WAKE UP HIPPIES, THE BLUE ANGELS ARE IN TOWN!',\n",
        "   u'to_user_id': None,\n",
        "   u'to_user_id_str': None},\n",
        "  {u'created_at': u'Thu, 06 Oct 2011 22:38:31 +0000',\n",
        "   u'entities': {},\n",
        "   u'from_user': u'LUVTQUILT',\n",
        "   u'from_user_id': 32653550,\n",
        "   u'from_user_id_str': u'32653550',\n",
        "   u'geo': None,\n",
        "   u'id': 122078309004742656,\n",
        "   u'id_str': u'122078309004742656',\n",
        "   u'iso_language_code': u'en',\n",
        "   u'metadata': {u'result_type': u'recent'},\n",
        "   u'profile_image_url': u'http://a1.twimg.com/profile_images/1188428056/IMG00007-20100521-1647_1__normal.jpg',\n",
        "   u'source': u'&lt;a href=&quot;http://ubersocial.com&quot; rel=&quot;nofollow&quot;&gt;\\xdcberSocial for BlackBerry&lt;/a&gt;',\n",
        "   u'text': u'Thursday - Just watched the Blue Angels practice over SF Bay Impressive! What a background. GGB & Alcatraz. ;) .',\n",
        "   u'to_user_id': None,\n",
        "   u'to_user_id_str': None},\n",
        "  {u'created_at': u'Thu, 06 Oct 2011 22:38:22 +0000',\n",
        "   u'entities': {u'urls': [{u'display_url': u'dlvr.it/pfFfj',\n",
        "      u'expanded_url': u'http://dlvr.it/pfFfj',\n",
        "      u'indices': [52, 72],\n",
        "      u'url': u'http://t.co/fyL8Rs5f'}]},\n",
        "   u'from_user': u'johnnyfuncheap',\n",
        "   u'from_user_id': 20717004,\n",
        "   u'from_user_id_str': u'20717004',\n",
        "   u'geo': None,\n",
        "   u'id': 122078271478317056,\n",
        "   u'id_str': u'122078271478317056',\n",
        "   u'iso_language_code': u'en',\n",
        "   u'metadata': {u'result_type': u'recent'},\n",
        "   u'profile_image_url': u'http://a0.twimg.com/profile_images/1130541908/funcheap_icon_twitter_normal.gif',\n",
        "   u'source': u'&lt;a href=&quot;http://dlvr.it&quot; rel=&quot;nofollow&quot;&gt;dlvr.it&lt;/a&gt;',\n",
        "   u'text': u'10/8/11: Blue Angels Wine Tasting | Treasure Island http://t.co/fyL8Rs5f',\n",
        "   u'to_user_id': None,\n",
        "   u'to_user_id_str': None},\n",
        "  {u'created_at': u'Thu, 06 Oct 2011 22:37:28 +0000',\n",
        "   u'entities': {u'urls': [{u'display_url': u'married2travel.com/2600/san-franc\\u2026',\n",
        "      u'expanded_url': u'http://married2travel.com/2600/san-francisco-day3-golden-gate-park-pier-39-blue-angels/',\n",
        "      u'indices': [47, 67],\n",
        "      u'url': u'http://t.co/KfzEqOWM'}]},\n",
        "   u'from_user': u'espenorio',\n",
        "   u'from_user_id': 52736683,\n",
        "   u'from_user_id_str': u'52736683',\n",
        "   u'geo': None,\n",
        "   u'id': 122078043664695296,\n",
        "   u'id_str': u'122078043664695296',\n",
        "   u'iso_language_code': u'en',\n",
        "   u'metadata': {u'result_type': u'recent'},\n",
        "   u'profile_image_url': u'http://a0.twimg.com/profile_images/1574863913/sheil_normal.png',\n",
        "   u'source': u'&lt;a href=&quot;http://twitter.com/&quot;&gt;web&lt;/a&gt;',\n",
        "   u'text': u'San Francisco 2010 Fleet week photos and video http://t.co/KfzEqOWM',\n",
        "   u'to_user_id': None,\n",
        "   u'to_user_id_str': None}],\n",
        " u'results_per_page': 5,\n",
        " u'since_id': 0,\n",
        " u'since_id_str': u'0'}"
       ]
      }
     ],
     "prompt_number": 41
    },
    {
     "cell_type": "code",
     "collapsed": false,
     "input": [
      "x['results'][0]"
     ],
     "language": "python",
     "metadata": {},
     "outputs": [
      {
       "metadata": {},
       "output_type": "pyout",
       "prompt_number": 38,
       "text": [
        "{u'created_at': u'Thu, 06 Oct 2011 19:36:17 +0000',\n",
        " u'entities': {u'urls': [{u'display_url': u'bit.ly/q9fyz9',\n",
        "    u'expanded_url': u'http://bit.ly/q9fyz9',\n",
        "    u'indices': [37, 57],\n",
        "    u'url': u'http://t.co/L9JXJ2ee'}]},\n",
        " u'from_user': u'SFist',\n",
        " u'from_user_id': 14093707,\n",
        " u'from_user_id_str': u'14093707',\n",
        " u'geo': None,\n",
        " u'id': 122032448266698752,\n",
        " u'id_str': u'122032448266698752',\n",
        " u'iso_language_code': u'en',\n",
        " u'metadata': {u'recent_retweets': 3, u'result_type': u'popular'},\n",
        " u'profile_image_url': u'http://a3.twimg.com/profile_images/51584619/SFist07_normal.jpg',\n",
        " u'source': u'&lt;a href=&quot;http://twitter.com/tweetbutton&quot; rel=&quot;nofollow&quot;&gt;Tweet Button&lt;/a&gt;',\n",
        " u'text': u'Reminder: Blue Angels practice today http://t.co/L9JXJ2ee',\n",
        " u'to_user_id': None,\n",
        " u'to_user_id_str': None}"
       ]
      }
     ],
     "prompt_number": 38
    },
    {
     "cell_type": "code",
     "collapsed": false,
     "input": [
      "x['results'][0]['created_at']"
     ],
     "language": "python",
     "metadata": {},
     "outputs": [
      {
       "metadata": {},
       "output_type": "pyout",
       "prompt_number": 96,
       "text": [
        "u'Thu, 06 Oct 2011 19:36:17 +0000'"
       ]
      }
     ],
     "prompt_number": 96
    },
    {
     "cell_type": "heading",
     "level": 1,
     "metadata": {},
     "source": [
      "WRITE FUNCTIONS"
     ]
    },
    {
     "cell_type": "heading",
     "level": 2,
     "metadata": {},
     "source": [
      "Getting Dict from Json"
     ]
    },
    {
     "cell_type": "code",
     "collapsed": false,
     "input": [
      "from operator import itemgetter"
     ],
     "language": "python",
     "metadata": {},
     "outputs": [],
     "prompt_number": 50
    },
    {
     "cell_type": "code",
     "collapsed": false,
     "input": [
      "def convertJsontoDict(obj):\n",
      "    python_dict = json.loads(obj);\n",
      "    return python_dict"
     ],
     "language": "python",
     "metadata": {},
     "outputs": [],
     "prompt_number": 40
    },
    {
     "cell_type": "heading",
     "level": 2,
     "metadata": {},
     "source": [
      "Sorting the results and output"
     ]
    },
    {
     "cell_type": "code",
     "collapsed": false,
     "input": [
      "def parseAndSort(python_dict):\n",
      "    search = python_dict['search_metadata']['query'];\n",
      "    results = python_dict['statuses'];\n",
      "    listofDates = [];\n",
      "    for hashing in results:\n",
      "        listofDates.append(hashing['created_at']);\n",
      "    order = compareDates(listofDates);\n",
      "    new_results = [];\n",
      "    for num in order:\n",
      "        new_results.append(results[num]);\n",
      "    return search, new_results"
     ],
     "language": "python",
     "metadata": {},
     "outputs": [],
     "prompt_number": 377
    },
    {
     "cell_type": "code",
     "collapsed": false,
     "input": [
      "dictionary = convertJsontoDict(z2)\n",
      "test = parseAndSort(dictionary)"
     ],
     "language": "python",
     "metadata": {},
     "outputs": [],
     "prompt_number": 378
    },
    {
     "cell_type": "code",
     "collapsed": false,
     "input": [
      "test"
     ],
     "language": "python",
     "metadata": {},
     "outputs": [
      {
       "metadata": {},
       "output_type": "pyout",
       "prompt_number": 392,
       "text": [
        "[u'Sat Oct 05 22:07:25 +0000 2013',\n",
        " u'Sat Oct 05 22:07:24 +0000 2013',\n",
        " u'Sat Oct 05 22:07:24 +0000 2013',\n",
        " u'Sat Oct 05 22:07:24 +0000 2013',\n",
        " u'Sat Oct 05 22:07:24 +0000 2013',\n",
        " u'Sat Oct 05 22:07:24 +0000 2013',\n",
        " u'Sat Oct 05 22:07:23 +0000 2013',\n",
        " u'Sat Oct 05 22:07:23 +0000 2013',\n",
        " u'Sat Oct 05 22:07:23 +0000 2013',\n",
        " u'Sat Oct 05 22:07:23 +0000 2013',\n",
        " u'Sat Oct 05 22:07:23 +0000 2013',\n",
        " u'Sat Oct 05 22:07:23 +0000 2013',\n",
        " u'Sat Oct 05 22:07:23 +0000 2013',\n",
        " u'Sat Oct 05 22:07:22 +0000 2013',\n",
        " u'Sat Oct 05 22:07:22 +0000 2013']"
       ]
      }
     ],
     "prompt_number": 392
    },
    {
     "cell_type": "code",
     "collapsed": false,
     "input": [
      "compareDates(test)"
     ],
     "language": "python",
     "metadata": {},
     "outputs": [
      {
       "metadata": {},
       "output_type": "pyout",
       "prompt_number": 391,
       "text": [
        "[u'Sat Oct 05 22:07:22 +0000 2013',\n",
        " u'Sat Oct 05 22:07:22 +0000 2013',\n",
        " u'Sat Oct 05 22:07:23 +0000 2013',\n",
        " u'Sat Oct 05 22:07:23 +0000 2013',\n",
        " u'Sat Oct 05 22:07:23 +0000 2013',\n",
        " u'Sat Oct 05 22:07:23 +0000 2013',\n",
        " u'Sat Oct 05 22:07:23 +0000 2013',\n",
        " u'Sat Oct 05 22:07:23 +0000 2013',\n",
        " u'Sat Oct 05 22:07:23 +0000 2013',\n",
        " u'Sat Oct 05 22:07:24 +0000 2013',\n",
        " u'Sat Oct 05 22:07:24 +0000 2013',\n",
        " u'Sat Oct 05 22:07:24 +0000 2013',\n",
        " u'Sat Oct 05 22:07:24 +0000 2013',\n",
        " u'Sat Oct 05 22:07:24 +0000 2013',\n",
        " u'Sat Oct 05 22:07:25 +0000 2013']"
       ]
      }
     ],
     "prompt_number": 391
    },
    {
     "cell_type": "code",
     "collapsed": false,
     "input": [
      "def compareDates(listofDates):\n",
      "    dateList = [];\n",
      "    combined_dateList = [];\n",
      "    for date in listofDates:\n",
      "        temp = date.split();\n",
      "        dateList.append(temp);\n",
      "    dateList_sorted = sorted(dateList, key=itemgetter(5, 2, 3)) \n",
      "    for i in dateList_sorted:\n",
      "        initial = ' ';        \n",
      "        combined_i = initial.join(i);\n",
      "        combined_dateList.append(combined_i);\n",
      "    order = []\n",
      "    for date in combined_dateList:\n",
      "        for orig in range(len(listofDates)):\n",
      "            if date == listofDates[orig]:\n",
      "                order.append(orig);\n",
      "    return order "
     ],
     "language": "python",
     "metadata": {},
     "outputs": [],
     "prompt_number": 390
    },
    {
     "cell_type": "heading",
     "level": 2,
     "metadata": {},
     "source": [
      "Grouping by 2 days, 1 week, 1 month, 1 year"
     ]
    },
    {
     "cell_type": "code",
     "collapsed": false,
     "input": [
      "import datetime, calendar"
     ],
     "language": "python",
     "metadata": {},
     "outputs": [],
     "prompt_number": 206
    },
    {
     "cell_type": "code",
     "collapsed": false,
     "input": [
      "def add_months(sourcedate,months):\n",
      "    month = sourcedate.month - 1 + months\n",
      "    year = sourcedate.year + month / 12\n",
      "    month = month % 12 + 1\n",
      "    day = min(sourcedate.day,calendar.monthrange(year,month)[1])\n",
      "    return datetime.date(year,month,day)"
     ],
     "language": "python",
     "metadata": {},
     "outputs": [],
     "prompt_number": 202
    },
    {
     "cell_type": "code",
     "collapsed": false,
     "input": [
      "def splitByTime(sorted_results):\n",
      "    start = sorted_results[0]['created_at'];\n",
      "    start_split = start.split();\n",
      "    #print start\n",
      "    ##INTIALIZING OUR THRESHOLDS\n",
      "    dictionary_hash = {'Jan':1,'Feb':2,'Mar':3,'Apr':4,'May':5,'Jun':6,'Jul':7,'Aug':8,'Sep':9,'Oct':10,'Nov':11,'Dec':12}\n",
      "    u = datetime.date(int(start_split[5]),int(dictionary_hash[start_split[1]]),int(start_split[2]));\n",
      "    d = datetime.timedelta(days=1);\n",
      "    one_day = u + d;\n",
      "    d = datetime.timedelta(days=7);\n",
      "    one_week = u + d;\n",
      "    one_month =  add_months(u, 1);\n",
      "    one_year = add_months(u, 12);\n",
      "    #print (u, one_day, one_week, one_month, one_year);\n",
      "    \n",
      "    ##INITIALIZING OUR CATEGORIES\n",
      "    within_one_day = [];\n",
      "    within_one_week = [];\n",
      "    within_one_month = [];\n",
      "    within_one_year = [];\n",
      "    \n",
      "    ##Applying it to our tweet\n",
      "    for i in sorted_results:\n",
      "        date = i['created_at'];\n",
      "        date_split = date.split()\n",
      "        u = datetime.date(int(date_split[5]), int(dictionary_hash[date_split[1]]), int(date_split[2]));\n",
      "        if ((one_day-u) <= datetime.timedelta(days=1)):\n",
      "            within_one_day.append(i);\n",
      "        if ((one_week-u) <= datetime.timedelta(days=7)):\n",
      "            within_one_week.append(i);\n",
      "        if ((one_week-u) <= datetime.timedelta(days=30)):\n",
      "            within_one_month.append(i);\n",
      "        if ((one_week-u) <= datetime.timedelta(days=365)):\n",
      "            within_one_year.append(i);\n",
      "    \n",
      "    return within_one_day, within_one_week, within_one_month, within_one_year"
     ],
     "language": "python",
     "metadata": {},
     "outputs": [],
     "prompt_number": 354
    },
    {
     "cell_type": "heading",
     "level": 1,
     "metadata": {},
     "source": [
      "I need to filter by location and then pass"
     ]
    },
    {
     "cell_type": "code",
     "collapsed": false,
     "input": [
      "z2 = '{\"statuses\":[{\"metadata\":{\"result_type\":\"recent\",\"iso_language_code\":\"in\"},\"created_at\":\"Sat Oct 05 22:07:25 +0000 2013\",\"id\":386613623163875328,\"id_str\":\"386613623163875328\",\"text\":\"@fazakausara Hi^^ follow @POPKoreanS yuk! Mereka lg bagi2 hadiah lho...yg hadiahnya SUPER DUPER DAEBAK..!!! #KuisPOPKoreanS *314\",\"source\":\"web\",\"truncated\":false,\"in_reply_to_status_id\":null,\"in_reply_to_status_id_str\":null,\"in_reply_to_user_id\":67232720,\"in_reply_to_user_id_str\":\"67232720\",\"in_reply_to_screen_name\":\"fazakausara\",\"user\":{\"id\":1619844631,\"id_str\":\"1619844631\",\"name\":\"Revana\",\"screen_name\":\"revana_kpop\",\"location\":\"indonesia\",\"description\":\"K-Pop\",\"url\":null,\"entities\":{\"description\":{\"urls\":[]}},\"protected\":false,\"followers_count\":12,\"friends_count\":9,\"listed_count\":0,\"created_at\":\"Thu Jul 25 08:26:06 +0000 2013\",\"favourites_count\":1,\"utc_offset\":null,\"time_zone\":null,\"geo_enabled\":false,\"verified\":false,\"statuses_count\":936,\"lang\":\"en\",\"contributors_enabled\":false,\"is_translator\":false,\"profile_background_color\":\"C0DEED\",\"profile_background_image_url\":\"http:\\\\/\\\\/abs.twimg.com\\\\/images\\\\/themes\\\\/theme1\\\\/bg.png\",\"profile_background_image_url_https\":\"https:\\\\/\\\\/abs.twimg.com\\\\/images\\\\/themes\\\\/theme1\\\\/bg.png\",\"profile_background_tile\":false,\"profile_image_url\":\"http:\\\\/\\\\/a0.twimg.com\\\\/profile_images\\\\/378800000185267540\\\\/ff080214db515697418545af552bdd54_normal.jpeg\",\"profile_image_url_https\":\"https:\\\\/\\\\/si0.twimg.com\\\\/profile_images\\\\/378800000185267540\\\\/ff080214db515697418545af552bdd54_normal.jpeg\",\"profile_link_color\":\"0084B4\",\"profile_sidebar_border_color\":\"C0DEED\",\"profile_sidebar_fill_color\":\"DDEEF6\",\"profile_text_color\":\"333333\",\"profile_use_background_image\":true,\"default_profile\":true,\"default_profile_image\":false,\"following\":false,\"follow_request_sent\":false,\"notifications\":false},\"geo\":null,\"coordinates\":null,\"place\":null,\"contributors\":null,\"retweet_count\":0,\"favorite_count\":0,\"entities\":{\"hashtags\":[{\"text\":\"KuisPOPKoreanS\",\"indices\":[108,123]}],\"symbols\":[],\"urls\":[],\"user_mentions\":[{\"screen_name\":\"fazakausara\",\"name\":\"Faza Kausara\",\"id\":67232720,\"id_str\":\"67232720\",\"indices\":[0,12]},{\"screen_name\":\"POPKoreanS\",\"name\":\"POP! Korean \",\"id\":87676269,\"id_str\":\"87676269\",\"indices\":[25,36]}]},\"favorited\":false,\"retweeted\":false,\"lang\":\"in\"},{\"metadata\":{\"result_type\":\"recent\",\"iso_language_code\":\"und\"},\"created_at\":\"Sat Oct 05 22:07:24 +0000 2013\",\"id\":386613619334852608,\"id_str\":\"386613619334852608\",\"text\":\"@Schuwoop hi.\",\"source\":\"\\\\u003ca href=\\\\\"http:\\\\/\\\\/twitter.com\\\\/download\\\\/android\\\\\" rel=\\\\\"nofollow\\\\\"\\\\u003eTwitter for Android\\\\u003c\\\\/a\\\\u003e\",\"truncated\":false,\"in_reply_to_status_id\":null,\"in_reply_to_status_id_str\":null,\"in_reply_to_user_id\":466069917,\"in_reply_to_user_id_str\":\"466069917\",\"in_reply_to_screen_name\":\"Schuwoop\",\"user\":{\"id\":291385464,\"id_str\":\"291385464\",\"name\":\"lazie\",\"screen_name\":\"Kasie_Elizabeth\",\"location\":\"jamestown, new york \",\"description\":\"\",\"url\":null,\"entities\":{\"description\":{\"urls\":[]}},\"protected\":false,\"followers_count\":241,\"friends_count\":256,\"listed_count\":0,\"created_at\":\"Sun May 01 22:45:11 +0000 2011\",\"favourites_count\":1317,\"utc_offset\":-14400,\"time_zone\":\"Eastern Time (US & Canada)\",\"geo_enabled\":true,\"verified\":false,\"statuses_count\":6397,\"lang\":\"en\",\"contributors_enabled\":false,\"is_translator\":false,\"profile_background_color\":\"007562\",\"profile_background_image_url\":\"http:\\\\/\\\\/abs.twimg.com\\\\/images\\\\/themes\\\\/theme18\\\\/bg.gif\",\"profile_background_image_url_https\":\"https:\\\\/\\\\/abs.twimg.com\\\\/images\\\\/themes\\\\/theme18\\\\/bg.gif\",\"profile_background_tile\":false,\"profile_image_url\":\"http:\\\\/\\\\/a0.twimg.com\\\\/profile_images\\\\/378800000489718561\\\\/09b3eba921d831608c364a1aa64db9a9_normal.jpeg\",\"profile_image_url_https\":\"https:\\\\/\\\\/si0.twimg.com\\\\/profile_images\\\\/378800000489718561\\\\/09b3eba921d831608c364a1aa64db9a9_normal.jpeg\",\"profile_banner_url\":\"https:\\\\/\\\\/pbs.twimg.com\\\\/profile_banners\\\\/291385464\\\\/1377675853\",\"profile_link_color\":\"63948C\",\"profile_sidebar_border_color\":\"000000\",\"profile_sidebar_fill_color\":\"F6F6F6\",\"profile_text_color\":\"333333\",\"profile_use_background_image\":true,\"default_profile\":false,\"default_profile_image\":false,\"following\":false,\"follow_request_sent\":false,\"notifications\":false},\"geo\":null,\"coordinates\":null,\"place\":null,\"contributors\":null,\"retweet_count\":0,\"favorite_count\":0,\"entities\":{\"hashtags\":[],\"symbols\":[],\"urls\":[],\"user_mentions\":[{\"screen_name\":\"Schuwoop\",\"name\":\"Zachary Tayler\",\"id\":466069917,\"id_str\":\"466069917\",\"indices\":[0,9]}]},\"favorited\":false,\"retweeted\":false,\"lang\":\"und\"},{\"metadata\":{\"result_type\":\"recent\",\"iso_language_code\":\"en\"},\"created_at\":\"Sat Oct 05 22:07:24 +0000 2013\",\"id\":386613619280347136,\"id_str\":\"386613619280347136\",\"text\":\"@5SOS @Michael5SOS @Calum5SOS @Ashton5SOS @Luke5SOS Hi guys please could you give me a quick follow? It would mean the world to me, ily \\\\ud83d\\\\udc95 86\",\"source\":\"\\\\u003ca href=\\\\\"http:\\\\/\\\\/twitter.com\\\\/download\\\\/iphone\\\\\" rel=\\\\\"nofollow\\\\\"\\\\u003eTwitter for iPhone\\\\u003c\\\\/a\\\\u003e\",\"truncated\":false,\"in_reply_to_status_id\":null,\"in_reply_to_status_id_str\":null,\"in_reply_to_user_id\":264107729,\"in_reply_to_user_id_str\":\"264107729\",\"in_reply_to_screen_name\":\"5SOS\",\"user\":{\"id\":1423366592,\"id_str\":\"1423366592\",\"name\":\"bethany :)))\",\"screen_name\":\"ily_5SOS_1D\",\"location\":\"england\",\"description\":\"pretty people make me sad\",\"url\":null,\"entities\":{\"description\":{\"urls\":[]}},\"protected\":false,\"followers_count\":492,\"friends_count\":667,\"listed_count\":2,\"created_at\":\"Sun May 12 15:14:04 +0000 2013\",\"favourites_count\":22,\"utc_offset\":3600,\"time_zone\":\"London\",\"geo_enabled\":false,\"verified\":false,\"statuses_count\":12076,\"lang\":\"en\",\"contributors_enabled\":false,\"is_translator\":false,\"profile_background_color\":\"C0DEED\",\"profile_background_image_url\":\"http:\\\\/\\\\/a0.twimg.com\\\\/profile_background_images\\\\/378800000014907997\\\\/390513048e4dd01833d89e3fbda9d38f.jpeg\",\"profile_background_image_url_https\":\"https:\\\\/\\\\/si0.twimg.com\\\\/profile_background_images\\\\/378800000014907997\\\\/390513048e4dd01833d89e3fbda9d38f.jpeg\",\"profile_background_tile\":true,\"profile_image_url\":\"http:\\\\/\\\\/a0.twimg.com\\\\/profile_images\\\\/378800000430558481\\\\/f75e3d3d1c87271c7a41079abeada430_normal.jpeg\",\"profile_image_url_https\":\"https:\\\\/\\\\/si0.twimg.com\\\\/profile_images\\\\/378800000430558481\\\\/f75e3d3d1c87271c7a41079abeada430_normal.jpeg\",\"profile_banner_url\":\"https:\\\\/\\\\/pbs.twimg.com\\\\/profile_banners\\\\/1423366592\\\\/1378912034\",\"profile_link_color\":\"0084B4\",\"profile_sidebar_border_color\":\"FFFFFF\",\"profile_sidebar_fill_color\":\"DDEEF6\",\"profile_text_color\":\"333333\",\"profile_use_background_image\":true,\"default_profile\":false,\"default_profile_image\":false,\"following\":false,\"follow_request_sent\":false,\"notifications\":false},\"geo\":null,\"coordinates\":null,\"place\":null,\"contributors\":null,\"retweet_count\":0,\"favorite_count\":0,\"entities\":{\"hashtags\":[],\"symbols\":[],\"urls\":[],\"user_mentions\":[{\"screen_name\":\"5SOS\",\"name\":\"5 Seconds of Summer\",\"id\":264107729,\"id_str\":\"264107729\",\"indices\":[0,5]},{\"screen_name\":\"Michael5SOS\",\"name\":\"Michael Clifford\",\"id\":403246803,\"id_str\":\"403246803\",\"indices\":[6,18]},{\"screen_name\":\"Calum5SOS\",\"name\":\"Calum Hood\",\"id\":403255314,\"id_str\":\"403255314\",\"indices\":[19,29]},{\"screen_name\":\"Ashton5SOS\",\"name\":\"Ashton Irwin\",\"id\":439125710,\"id_str\":\"439125710\",\"indices\":[30,41]},{\"screen_name\":\"Luke5SOS\",\"name\":\"Luke Hemmings\",\"id\":403245020,\"id_str\":\"403245020\",\"indices\":[42,51]}]},\"favorited\":false,\"retweeted\":false,\"lang\":\"en\"},{\"metadata\":{\"result_type\":\"recent\",\"iso_language_code\":\"en\"},\"created_at\":\"Sat Oct 05 22:07:24 +0000 2013\",\"id\":386613618902835200,\"id_str\":\"386613618902835200\",\"text\":\"@OhMarlonGreen hi, I was told you do videos? I need your help!\",\"source\":\"\\\\u003ca href=\\\\\"http:\\\\/\\\\/twitter.com\\\\/download\\\\/iphone\\\\\" rel=\\\\\"nofollow\\\\\"\\\\u003eTwitter for iPhone\\\\u003c\\\\/a\\\\u003e\",\"truncated\":false,\"in_reply_to_status_id\":null,\"in_reply_to_status_id_str\":null,\"in_reply_to_user_id\":238370093,\"in_reply_to_user_id_str\":\"238370093\",\"in_reply_to_screen_name\":\"OhMarlonGreen\",\"user\":{\"id\":35634189,\"id_str\":\"35634189\",\"name\":\"Jourdan Williams\",\"screen_name\":\"_jourdana\",\"location\":\"shreveport \\\\u269c baton rouge\",\"description\":\"LSU\",\"url\":\"http:\\\\/\\\\/t.co\\\\/qgpxyCbXqF\",\"entities\":{\"url\":{\"urls\":[{\"url\":\"http:\\\\/\\\\/t.co\\\\/qgpxyCbXqF\",\"expanded_url\":\"http:\\\\/\\\\/jourdanwilliams.com\",\"display_url\":\"jourdanwilliams.com\",\"indices\":[0,22]}]},\"description\":{\"urls\":[]}},\"protected\":false,\"followers_count\":1479,\"friends_count\":842,\"listed_count\":7,\"created_at\":\"Mon Apr 27 01:55:53 +0000 2009\",\"favourites_count\":138,\"utc_offset\":-18000,\"time_zone\":\"Central Time (US & Canada)\",\"geo_enabled\":true,\"verified\":false,\"statuses_count\":32936,\"lang\":\"en\",\"contributors_enabled\":false,\"is_translator\":false,\"profile_background_color\":\"DAF50A\",\"profile_background_image_url\":\"http:\\\\/\\\\/a0.twimg.com\\\\/profile_background_images\\\\/832014218\\\\/a9d2f8ab8eb5b7365fbdacf74013ee48.jpeg\",\"profile_background_image_url_https\":\"https:\\\\/\\\\/si0.twimg.com\\\\/profile_background_images\\\\/832014218\\\\/a9d2f8ab8eb5b7365fbdacf74013ee48.jpeg\",\"profile_background_tile\":false,\"profile_image_url\":\"http:\\\\/\\\\/a0.twimg.com\\\\/profile_images\\\\/378800000244281486\\\\/3ab7979b284ca78e1f2736548f71f100_normal.jpeg\",\"profile_image_url_https\":\"https:\\\\/\\\\/si0.twimg.com\\\\/profile_images\\\\/378800000244281486\\\\/3ab7979b284ca78e1f2736548f71f100_normal.jpeg\",\"profile_banner_url\":\"https:\\\\/\\\\/pbs.twimg.com\\\\/profile_banners\\\\/35634189\\\\/1379389978\",\"profile_link_color\":\"5D877A\",\"profile_sidebar_border_color\":\"000000\",\"profile_sidebar_fill_color\":\"FFFFFF\",\"profile_text_color\":\"940361\",\"profile_use_background_image\":false,\"default_profile\":false,\"default_profile_image\":false,\"following\":false,\"follow_request_sent\":false,\"notifications\":false},\"geo\":null,\"coordinates\":null,\"place\":null,\"contributors\":null,\"retweet_count\":0,\"favorite_count\":0,\"entities\":{\"hashtags\":[],\"symbols\":[],\"urls\":[],\"user_mentions\":[{\"screen_name\":\"OhMarlonGreen\",\"name\":\"MarlonInAction\",\"id\":238370093,\"id_str\":\"238370093\",\"indices\":[0,14]}]},\"favorited\":false,\"retweeted\":false,\"lang\":\"en\"},{\"metadata\":{\"result_type\":\"recent\",\"iso_language_code\":\"en\"},\"created_at\":\"Sat Oct 05 22:07:24 +0000 2013\",\"id\":386613618235543552,\"id_str\":\"386613618235543552\",\"text\":\"@totaldramaaddic Hi, we do our \\\\\"encounter\\\\\" by direct message?Please\",\"source\":\"web\",\"truncated\":false,\"in_reply_to_status_id\":null,\"in_reply_to_status_id_str\":null,\"in_reply_to_user_id\":1884276943,\"in_reply_to_user_id_str\":\"1884276943\",\"in_reply_to_screen_name\":\"totaldramaaddic\",\"user\":{\"id\":858411068,\"id_str\":\"858411068\",\"name\":\"Gwen \\\\u2020\",\"screen_name\":\"Mary_My_Duncan\",\"location\":\"Veran\\\\u00f3polis RS \",\"description\":\"\\\\u2020I have tiger eyes, a fighter, dancing by the fire, a champion and you\\'ll hear me roar\\\\u2020\",\"url\":null,\"entities\":{\"description\":{\"urls\":[]}},\"protected\":false,\"followers_count\":465,\"friends_count\":619,\"listed_count\":1,\"created_at\":\"Tue Oct 02 17:29:09 +0000 2012\",\"favourites_count\":1428,\"utc_offset\":-7200,\"time_zone\":\"Mid-Atlantic\",\"geo_enabled\":true,\"verified\":false,\"statuses_count\":5187,\"lang\":\"pt\",\"contributors_enabled\":false,\"is_translator\":false,\"profile_background_color\":\"000000\",\"profile_background_image_url\":\"http:\\\\/\\\\/a0.twimg.com\\\\/profile_background_images\\\\/378800000087501459\\\\/7c627e8ec7581af5b474b6d83adb0254.jpeg\",\"profile_background_image_url_https\":\"https:\\\\/\\\\/si0.twimg.com\\\\/profile_background_images\\\\/378800000087501459\\\\/7c627e8ec7581af5b474b6d83adb0254.jpeg\",\"profile_background_tile\":false,\"profile_image_url\":\"http:\\\\/\\\\/a0.twimg.com\\\\/profile_images\\\\/378800000544697017\\\\/ba48a91ca553963be42eec096890c398_normal.png\",\"profile_image_url_https\":\"https:\\\\/\\\\/si0.twimg.com\\\\/profile_images\\\\/378800000544697017\\\\/ba48a91ca553963be42eec096890c398_normal.png\",\"profile_banner_url\":\"https:\\\\/\\\\/pbs.twimg.com\\\\/profile_banners\\\\/858411068\\\\/1380841397\",\"profile_link_color\":\"BD0000\",\"profile_sidebar_border_color\":\"000000\",\"profile_sidebar_fill_color\":\"EFEFEF\",\"profile_text_color\":\"333333\",\"profile_use_background_image\":true,\"default_profile\":false,\"default_profile_image\":false,\"following\":false,\"follow_request_sent\":false,\"notifications\":false},\"geo\":null,\"coordinates\":null,\"place\":null,\"contributors\":null,\"retweet_count\":0,\"favorite_count\":0,\"entities\":{\"hashtags\":[],\"symbols\":[],\"urls\":[],\"user_mentions\":[{\"screen_name\":\"totaldramaaddic\",\"name\":\"Outlawed Alejandro\",\"id\":1884276943,\"id_str\":\"1884276943\",\"indices\":[0,16]}]},\"favorited\":false,\"retweeted\":false,\"lang\":\"en\"},{\"metadata\":{\"result_type\":\"recent\",\"iso_language_code\":\"und\"},\"created_at\":\"Sat Oct 05 22:07:24 +0000 2013\",\"id\":386613617791344640,\"id_str\":\"386613617791344640\",\"text\":\"@RL_Stine hi\",\"source\":\"\\\\u003ca href=\\\\\"http:\\\\/\\\\/twitter.com\\\\/download\\\\/iphone\\\\\" rel=\\\\\"nofollow\\\\\"\\\\u003eTwitter for iPhone\\\\u003c\\\\/a\\\\u003e\",\"truncated\":false,\"in_reply_to_status_id\":386613436911591424,\"in_reply_to_status_id_str\":\"386613436911591424\",\"in_reply_to_user_id\":94891659,\"in_reply_to_user_id_str\":\"94891659\",\"in_reply_to_screen_name\":\"RL_Stine\",\"user\":{\"id\":857160482,\"id_str\":\"857160482\",\"name\":\"v\\\\u2716\",\"screen_name\":\"Vaneeza6\",\"location\":\"\",\"description\":\"Now stay with me cause im quite quick 5 6 7 8 :)\",\"url\":null,\"entities\":{\"description\":{\"urls\":[]}},\"protected\":false,\"followers_count\":319,\"friends_count\":80,\"listed_count\":1,\"created_at\":\"Mon Oct 01 23:08:10 +0000 2012\",\"favourites_count\":1172,\"utc_offset\":-10800,\"time_zone\":\"Atlantic Time (Canada)\",\"geo_enabled\":false,\"verified\":false,\"statuses_count\":5478,\"lang\":\"en\",\"contributors_enabled\":false,\"is_translator\":false,\"profile_background_color\":\"C0DEED\",\"profile_background_image_url\":\"http:\\\\/\\\\/abs.twimg.com\\\\/images\\\\/themes\\\\/theme1\\\\/bg.png\",\"profile_background_image_url_https\":\"https:\\\\/\\\\/abs.twimg.com\\\\/images\\\\/themes\\\\/theme1\\\\/bg.png\",\"profile_background_tile\":false,\"profile_image_url\":\"http:\\\\/\\\\/a0.twimg.com\\\\/profile_images\\\\/378800000549861115\\\\/d572d246f1144b09cbe38bf663e19ef9_normal.jpeg\",\"profile_image_url_https\":\"https:\\\\/\\\\/si0.twimg.com\\\\/profile_images\\\\/378800000549861115\\\\/d572d246f1144b09cbe38bf663e19ef9_normal.jpeg\",\"profile_banner_url\":\"https:\\\\/\\\\/pbs.twimg.com\\\\/profile_banners\\\\/857160482\\\\/1378589108\",\"profile_link_color\":\"0084B4\",\"profile_sidebar_border_color\":\"C0DEED\",\"profile_sidebar_fill_color\":\"DDEEF6\",\"profile_text_color\":\"333333\",\"profile_use_background_image\":true,\"default_profile\":true,\"default_profile_image\":false,\"following\":false,\"follow_request_sent\":false,\"notifications\":false},\"geo\":null,\"coordinates\":null,\"place\":null,\"contributors\":null,\"retweet_count\":0,\"favorite_count\":0,\"entities\":{\"hashtags\":[],\"symbols\":[],\"urls\":[],\"user_mentions\":[{\"screen_name\":\"RL_Stine\",\"name\":\"R.L. Stine\",\"id\":94891659,\"id_str\":\"94891659\",\"indices\":[0,9]}]},\"favorited\":false,\"retweeted\":false,\"lang\":\"und\"},{\"metadata\":{\"result_type\":\"recent\",\"iso_language_code\":\"und\"},\"created_at\":\"Sat Oct 05 22:07:23 +0000 2013\",\"id\":386613616230678528,\"id_str\":\"386613616230678528\",\"text\":\"@JustinFilly @TBagVirus @StyleOnPC @FknFrozen @MenaceKiz @HedgyPie @itNexx @flemderp @urineman @GavinMate @TACTIIC @WAYLONZBOT @ketoooh hi\",\"source\":\"web\",\"truncated\":false,\"in_reply_to_status_id\":386613415730360320,\"in_reply_to_status_id_str\":\"386613415730360320\",\"in_reply_to_user_id\":270160970,\"in_reply_to_user_id_str\":\"270160970\",\"in_reply_to_screen_name\":\"JustinFilly\",\"user\":{\"id\":892539361,\"id_str\":\"892539361\",\"name\":\"Carter | Hazmatick\",\"screen_name\":\"Carter_Donnell\",\"location\":\"illinois \",\"description\":\"If you know me in real life, I just post random gaming related stuff, if you know me from youtube, fuck you.\",\"url\":\"http:\\\\/\\\\/t.co\\\\/ciYdbZNL79\",\"entities\":{\"url\":{\"urls\":[{\"url\":\"http:\\\\/\\\\/t.co\\\\/ciYdbZNL79\",\"expanded_url\":\"http:\\\\/\\\\/Youtube.com\\\\/user\\\\/Hazmatick\",\"display_url\":\"Youtube.com\\\\/user\\\\/Hazmatick\",\"indices\":[0,22]}]},\"description\":{\"urls\":[]}},\"protected\":false,\"followers_count\":69,\"friends_count\":105,\"listed_count\":0,\"created_at\":\"Sat Oct 20 05:27:22 +0000 2012\",\"favourites_count\":37,\"utc_offset\":-14400,\"time_zone\":\"Eastern Time (US & Canada)\",\"geo_enabled\":false,\"verified\":false,\"statuses_count\":604,\"lang\":\"en\",\"contributors_enabled\":false,\"is_translator\":false,\"profile_background_color\":\"000000\",\"profile_background_image_url\":\"http:\\\\/\\\\/a0.twimg.com\\\\/profile_background_images\\\\/688966229\\\\/46d04074a8b0a224fc2dcd9ee0fb31ee.jpeg\",\"profile_background_image_url_https\":\"https:\\\\/\\\\/si0.twimg.com\\\\/profile_background_images\\\\/688966229\\\\/46d04074a8b0a224fc2dcd9ee0fb31ee.jpeg\",\"profile_background_tile\":false,\"profile_image_url\":\"http:\\\\/\\\\/a0.twimg.com\\\\/profile_images\\\\/3255271684\\\\/846a412442382a6eaf35cc6cd35f5de2_normal.jpeg\",\"profile_image_url_https\":\"https:\\\\/\\\\/si0.twimg.com\\\\/profile_images\\\\/3255271684\\\\/846a412442382a6eaf35cc6cd35f5de2_normal.jpeg\",\"profile_banner_url\":\"https:\\\\/\\\\/pbs.twimg.com\\\\/profile_banners\\\\/892539361\\\\/1376639193\",\"profile_link_color\":\"F00E2C\",\"profile_sidebar_border_color\":\"000000\",\"profile_sidebar_fill_color\":\"DDEEF6\",\"profile_text_color\":\"333333\",\"profile_use_background_image\":false,\"default_profile\":false,\"default_profile_image\":false,\"following\":false,\"follow_request_sent\":false,\"notifications\":false},\"geo\":null,\"coordinates\":null,\"place\":null,\"contributors\":null,\"retweet_count\":0,\"favorite_count\":0,\"entities\":{\"hashtags\":[],\"symbols\":[],\"urls\":[],\"user_mentions\":[{\"screen_name\":\"JustinFilly\",\"name\":\"Justin \\\\u4f1d\\\\u8aac \",\"id\":270160970,\"id_str\":\"270160970\",\"indices\":[0,12]},{\"screen_name\":\"TBagVirus\",\"name\":\"ffs\",\"id\":1134692425,\"id_str\":\"1134692425\",\"indices\":[13,23]},{\"screen_name\":\"StyleOnPC\",\"name\":\"styleonpc tho\",\"id\":1143739285,\"id_str\":\"1143739285\",\"indices\":[24,34]},{\"screen_name\":\"FknFrozen\",\"name\":\"Frozen\",\"id\":772130610,\"id_str\":\"772130610\",\"indices\":[35,45]},{\"screen_name\":\"MenaceKiz\",\"name\":\"SirTheRichard\",\"id\":1603647859,\"id_str\":\"1603647859\",\"indices\":[46,56]},{\"screen_name\":\"HedgyPie\",\"name\":\"Hedgy\",\"id\":1348162585,\"id_str\":\"1348162585\",\"indices\":[57,66]},{\"screen_name\":\"itNexx\",\"name\":\"Omeed (Nex)\",\"id\":709542656,\"id_str\":\"709542656\",\"indices\":[67,74]},{\"screen_name\":\"flemderp\",\"name\":\"michiel flemfgt\",\"id\":404010911,\"id_str\":\"404010911\",\"indices\":[75,84]},{\"screen_name\":\"urineman\",\"name\":\"Graeme\",\"id\":364924227,\"id_str\":\"364924227\",\"indices\":[85,94]},{\"screen_name\":\"GavinMate\",\"name\":\"Menace\\\\/XcG Gavin\",\"id\":255633300,\"id_str\":\"255633300\",\"indices\":[95,105]},{\"screen_name\":\"TACTIIC\",\"name\":\"Justin Auten\",\"id\":208308638,\"id_str\":\"208308638\",\"indices\":[106,114]},{\"screen_name\":\"WAYLONZBOT\",\"name\":\"Waylonz\",\"id\":735080144,\"id_str\":\"735080144\",\"indices\":[115,126]},{\"screen_name\":\"ketoooh\",\"name\":\"ketoh.\",\"id\":568576663,\"id_str\":\"568576663\",\"indices\":[127,135]}]},\"favorited\":false,\"retweeted\":false,\"lang\":\"und\"},{\"metadata\":{\"result_type\":\"recent\",\"iso_language_code\":\"en\"},\"created_at\":\"Sat Oct 05 22:07:23 +0000 2013\",\"id\":386613615769690112,\"id_str\":\"386613615769690112\",\"text\":\"@missjenjomet @ashoztd hi how u doing I had a heart and lung transplant over 6 years ago I\\'m doing Amazimg now\",\"source\":\"\\\\u003ca href=\\\\\"http:\\\\/\\\\/twitter.com\\\\/#!\\\\/download\\\\/ipad\\\\\" rel=\\\\\"nofollow\\\\\"\\\\u003eTwitter for iPad\\\\u003c\\\\/a\\\\u003e\",\"truncated\":false,\"in_reply_to_status_id\":386571617599766528,\"in_reply_to_status_id_str\":\"386571617599766528\",\"in_reply_to_user_id\":204515224,\"in_reply_to_user_id_str\":\"204515224\",\"in_reply_to_screen_name\":\"missjenjomet\",\"user\":{\"id\":97029395,\"id_str\":\"97029395\",\"name\":\"chris richardson\",\"screen_name\":\"Chrisrich25\",\"location\":\"\",\"description\":\"Heart & Lung Transplantiee 6 years ago love darts and Football huge horse racing fan Massive Newcastle United Fan also Love Girls Aloud & The Saturdays\",\"url\":null,\"entities\":{\"description\":{\"urls\":[]}},\"protected\":false,\"followers_count\":1362,\"friends_count\":2001,\"listed_count\":6,\"created_at\":\"Tue Dec 15 18:09:12 +0000 2009\",\"favourites_count\":1228,\"utc_offset\":0,\"time_zone\":\"Casablanca\",\"geo_enabled\":true,\"verified\":false,\"statuses_count\":48206,\"lang\":\"en\",\"contributors_enabled\":false,\"is_translator\":false,\"profile_background_color\":\"C0DEED\",\"profile_background_image_url\":\"http:\\\\/\\\\/abs.twimg.com\\\\/images\\\\/themes\\\\/theme1\\\\/bg.png\",\"profile_background_image_url_https\":\"https:\\\\/\\\\/abs.twimg.com\\\\/images\\\\/themes\\\\/theme1\\\\/bg.png\",\"profile_background_tile\":false,\"profile_image_url\":\"http:\\\\/\\\\/a0.twimg.com\\\\/profile_images\\\\/3167200532\\\\/e32b4afbbadba4ac548f6e348679ee7e_normal.jpeg\",\"profile_image_url_https\":\"https:\\\\/\\\\/si0.twimg.com\\\\/profile_images\\\\/3167200532\\\\/e32b4afbbadba4ac548f6e348679ee7e_normal.jpeg\",\"profile_banner_url\":\"https:\\\\/\\\\/pbs.twimg.com\\\\/profile_banners\\\\/97029395\\\\/1379354394\",\"profile_link_color\":\"0084B4\",\"profile_sidebar_border_color\":\"C0DEED\",\"profile_sidebar_fill_color\":\"DDEEF6\",\"profile_text_color\":\"333333\",\"profile_use_background_image\":true,\"default_profile\":true,\"default_profile_image\":false,\"following\":false,\"follow_request_sent\":false,\"notifications\":false},\"geo\":null,\"coordinates\":null,\"place\":null,\"contributors\":null,\"retweet_count\":0,\"favorite_count\":0,\"entities\":{\"hashtags\":[],\"symbols\":[],\"urls\":[],\"user_mentions\":[{\"screen_name\":\"missjenjomet\",\"name\":\"Jennifer Metcalfe\",\"id\":204515224,\"id_str\":\"204515224\",\"indices\":[0,13]},{\"screen_name\":\"ashoztd\",\"name\":\"Ashley Taylor Dawson\",\"id\":46533782,\"id_str\":\"46533782\",\"indices\":[14,22]}]},\"favorited\":false,\"retweeted\":false,\"lang\":\"en\"},{\"metadata\":{\"result_type\":\"recent\",\"iso_language_code\":\"en\"},\"created_at\":\"Sat Oct 05 22:07:23 +0000 2013\",\"id\":386613615731560448,\"id_str\":\"386613615731560448\",\"text\":\"@Harry_Styles hi harry \\\\ud83d\\\\ude0a\\\\ud83c\\\\udf52\\\\ud83d\\\\udc96\\\\ndo you know what would make me SO happy? if you guessed a follow from you you are right so you should follow me!\",\"source\":\"\\\\u003ca href=\\\\\"http:\\\\/\\\\/twitter.com\\\\/download\\\\/iphone\\\\\" rel=\\\\\"nofollow\\\\\"\\\\u003eTwitter for iPhone\\\\u003c\\\\/a\\\\u003e\",\"truncated\":false,\"in_reply_to_status_id\":null,\"in_reply_to_status_id_str\":null,\"in_reply_to_user_id\":181561712,\"in_reply_to_user_id_str\":\"181561712\",\"in_reply_to_screen_name\":\"Harry_Styles\",\"user\":{\"id\":527498818,\"id_str\":\"527498818\",\"name\":\"marissa\",\"screen_name\":\"ummarissaaa\",\"location\":\"\",\"description\":\"one and only\",\"url\":null,\"entities\":{\"description\":{\"urls\":[]}},\"protected\":false,\"followers_count\":5147,\"friends_count\":319,\"listed_count\":7,\"created_at\":\"Sat Mar 17 14:19:02 +0000 2012\",\"favourites_count\":17722,\"utc_offset\":-14400,\"time_zone\":\"Eastern Time (US & Canada)\",\"geo_enabled\":false,\"verified\":false,\"statuses_count\":35695,\"lang\":\"en\",\"contributors_enabled\":false,\"is_translator\":false,\"profile_background_color\":\"FFFFFF\",\"profile_background_image_url\":\"http:\\\\/\\\\/a0.twimg.com\\\\/profile_background_images\\\\/378800000023112041\\\\/1ca2f4cd605e587e8029a8a1ac2f7329.jpeg\",\"profile_background_image_url_https\":\"https:\\\\/\\\\/si0.twimg.com\\\\/profile_background_images\\\\/378800000023112041\\\\/1ca2f4cd605e587e8029a8a1ac2f7329.jpeg\",\"profile_background_tile\":true,\"profile_image_url\":\"http:\\\\/\\\\/a0.twimg.com\\\\/profile_images\\\\/378800000546932207\\\\/153c1fab2eae436f7c5a18ce2bcab03b_normal.jpeg\",\"profile_image_url_https\":\"https:\\\\/\\\\/si0.twimg.com\\\\/profile_images\\\\/378800000546932207\\\\/153c1fab2eae436f7c5a18ce2bcab03b_normal.jpeg\",\"profile_banner_url\":\"https:\\\\/\\\\/pbs.twimg.com\\\\/profile_banners\\\\/527498818\\\\/1380885493\",\"profile_link_color\":\"F5809D\",\"profile_sidebar_border_color\":\"FFFFFF\",\"profile_sidebar_fill_color\":\"FCDFCC\",\"profile_text_color\":\"E6D6A8\",\"profile_use_background_image\":false,\"default_profile\":false,\"default_profile_image\":false,\"following\":false,\"follow_request_sent\":false,\"notifications\":false},\"geo\":null,\"coordinates\":null,\"place\":null,\"contributors\":null,\"retweet_count\":0,\"favorite_count\":0,\"entities\":{\"hashtags\":[],\"symbols\":[],\"urls\":[],\"user_mentions\":[{\"screen_name\":\"Harry_Styles\",\"name\":\"Harry Styles\",\"id\":181561712,\"id_str\":\"181561712\",\"indices\":[0,13]}]},\"favorited\":false,\"retweeted\":false,\"lang\":\"en\"},{\"metadata\":{\"result_type\":\"recent\",\"iso_language_code\":\"und\"},\"created_at\":\"Sat Oct 05 22:07:23 +0000 2013\",\"id\":386613615148957696,\"id_str\":\"386613615148957696\",\"text\":\"@TheGreat72 hi.\",\"source\":\"\\\\u003ca href=\\\\\"http:\\\\/\\\\/twitter.com\\\\/download\\\\/iphone\\\\\" rel=\\\\\"nofollow\\\\\"\\\\u003eTwitter for iPhone\\\\u003c\\\\/a\\\\u003e\",\"truncated\":false,\"in_reply_to_status_id\":386605070533787648,\"in_reply_to_status_id_str\":\"386605070533787648\",\"in_reply_to_user_id\":480050369,\"in_reply_to_user_id_str\":\"480050369\",\"in_reply_to_screen_name\":\"TheGreat72\",\"user\":{\"id\":721211496,\"id_str\":\"721211496\",\"name\":\"Noah\",\"screen_name\":\"noahtrembley12\",\"location\":\"\",\"description\":\"\\\\u5350\",\"url\":null,\"entities\":{\"description\":{\"urls\":[]}},\"protected\":false,\"followers_count\":408,\"friends_count\":202,\"listed_count\":0,\"created_at\":\"Sat Jul 28 01:08:25 +0000 2012\",\"favourites_count\":8965,\"utc_offset\":-14400,\"time_zone\":\"Eastern Time (US & Canada)\",\"geo_enabled\":false,\"verified\":false,\"statuses_count\":3409,\"lang\":\"en\",\"contributors_enabled\":false,\"is_translator\":false,\"profile_background_color\":\"C0DEED\",\"profile_background_image_url\":\"http:\\\\/\\\\/abs.twimg.com\\\\/images\\\\/themes\\\\/theme1\\\\/bg.png\",\"profile_background_image_url_https\":\"https:\\\\/\\\\/abs.twimg.com\\\\/images\\\\/themes\\\\/theme1\\\\/bg.png\",\"profile_background_tile\":false,\"profile_image_url\":\"http:\\\\/\\\\/a0.twimg.com\\\\/profile_images\\\\/378800000522322005\\\\/17cfe4a67f19a2fcb0773466adc24a16_normal.jpeg\",\"profile_image_url_https\":\"https:\\\\/\\\\/si0.twimg.com\\\\/profile_images\\\\/378800000522322005\\\\/17cfe4a67f19a2fcb0773466adc24a16_normal.jpeg\",\"profile_banner_url\":\"https:\\\\/\\\\/pbs.twimg.com\\\\/profile_banners\\\\/721211496\\\\/1380419562\",\"profile_link_color\":\"0084B4\",\"profile_sidebar_border_color\":\"C0DEED\",\"profile_sidebar_fill_color\":\"DDEEF6\",\"profile_text_color\":\"333333\",\"profile_use_background_image\":true,\"default_profile\":true,\"default_profile_image\":false,\"following\":false,\"follow_request_sent\":false,\"notifications\":false},\"geo\":null,\"coordinates\":null,\"place\":null,\"contributors\":null,\"retweet_count\":0,\"favorite_count\":0,\"entities\":{\"hashtags\":[],\"symbols\":[],\"urls\":[],\"user_mentions\":[{\"screen_name\":\"TheGreat72\",\"name\":\"\\\\u26beBr\\\\u00ebnde\\\\u00f1 \\\\u0141\\\\u00f8vell\\\\u26be\",\"id\":480050369,\"id_str\":\"480050369\",\"indices\":[0,11]}]},\"favorited\":false,\"retweeted\":false,\"lang\":\"und\"},{\"metadata\":{\"result_type\":\"recent\",\"iso_language_code\":\"en\"},\"created_at\":\"Sat Oct 05 22:07:23 +0000 2013\",\"id\":386613614943039488,\"id_str\":\"386613614943039488\",\"text\":\"Hi guys\",\"source\":\"\\\\u003ca href=\\\\\"http:\\\\/\\\\/twitter.com\\\\/download\\\\/iphone\\\\\" rel=\\\\\"nofollow\\\\\"\\\\u003eTwitter for iPhone\\\\u003c\\\\/a\\\\u003e\",\"truncated\":false,\"in_reply_to_status_id\":null,\"in_reply_to_status_id_str\":null,\"in_reply_to_user_id\":null,\"in_reply_to_user_id_str\":null,\"in_reply_to_screen_name\":null,\"user\":{\"id\":1677424513,\"id_str\":\"1677424513\",\"name\":\"lube&zouis\",\"screen_name\":\"enchantingzouis\",\"location\":\"\",\"description\":\"Once i met harry then i realized it was only just a dreeeeeeaammmmmm\",\"url\":null,\"entities\":{\"description\":{\"urls\":[]}},\"protected\":false,\"followers_count\":92,\"friends_count\":91,\"listed_count\":1,\"created_at\":\"Sat Aug 17 05:16:32 +0000 2013\",\"favourites_count\":80,\"utc_offset\":null,\"time_zone\":null,\"geo_enabled\":false,\"verified\":false,\"statuses_count\":201,\"lang\":\"en\",\"contributors_enabled\":false,\"is_translator\":false,\"profile_background_color\":\"C0DEED\",\"profile_background_image_url\":\"http:\\\\/\\\\/abs.twimg.com\\\\/images\\\\/themes\\\\/theme1\\\\/bg.png\",\"profile_background_image_url_https\":\"https:\\\\/\\\\/abs.twimg.com\\\\/images\\\\/themes\\\\/theme1\\\\/bg.png\",\"profile_background_tile\":false,\"profile_image_url\":\"http:\\\\/\\\\/a0.twimg.com\\\\/profile_images\\\\/378800000512220464\\\\/e7289779afa7daa6d21de7812424feec_normal.jpeg\",\"profile_image_url_https\":\"https:\\\\/\\\\/si0.twimg.com\\\\/profile_images\\\\/378800000512220464\\\\/e7289779afa7daa6d21de7812424feec_normal.jpeg\",\"profile_banner_url\":\"https:\\\\/\\\\/pbs.twimg.com\\\\/profile_banners\\\\/1677424513\\\\/1380493373\",\"profile_link_color\":\"0084B4\",\"profile_sidebar_border_color\":\"C0DEED\",\"profile_sidebar_fill_color\":\"DDEEF6\",\"profile_text_color\":\"333333\",\"profile_use_background_image\":true,\"default_profile\":true,\"default_profile_image\":false,\"following\":false,\"follow_request_sent\":false,\"notifications\":false},\"geo\":null,\"coordinates\":null,\"place\":null,\"contributors\":null,\"retweet_count\":0,\"favorite_count\":0,\"entities\":{\"hashtags\":[],\"symbols\":[],\"urls\":[],\"user_mentions\":[]},\"favorited\":false,\"retweeted\":false,\"lang\":\"en\"},{\"metadata\":{\"result_type\":\"recent\",\"iso_language_code\":\"en\"},\"created_at\":\"Sat Oct 05 22:07:23 +0000 2013\",\"id\":386613614284910592,\"id_str\":\"386613614284910592\",\"text\":\"Everyone\\'s going to homecoming in groups and with friends and then there\\'s me. Just poppin up alone like oh hi there\",\"source\":\"\\\\u003ca href=\\\\\"http:\\\\/\\\\/twitter.com\\\\/download\\\\/iphone\\\\\" rel=\\\\\"nofollow\\\\\"\\\\u003eTwitter for iPhone\\\\u003c\\\\/a\\\\u003e\",\"truncated\":false,\"in_reply_to_status_id\":null,\"in_reply_to_status_id_str\":null,\"in_reply_to_user_id\":null,\"in_reply_to_user_id_str\":null,\"in_reply_to_screen_name\":null,\"user\":{\"id\":718513849,\"id_str\":\"718513849\",\"name\":\"Ryan Klinkman \",\"screen_name\":\"Rklinky\",\"location\":\"\",\"description\":\"Track runner and mixed martial arts fighter\",\"url\":null,\"entities\":{\"description\":{\"urls\":[]}},\"protected\":false,\"followers_count\":24,\"friends_count\":79,\"listed_count\":0,\"created_at\":\"Thu Jul 26 18:32:38 +0000 2012\",\"favourites_count\":34,\"utc_offset\":null,\"time_zone\":null,\"geo_enabled\":false,\"verified\":false,\"statuses_count\":462,\"lang\":\"en\",\"contributors_enabled\":false,\"is_translator\":false,\"profile_background_color\":\"C0DEED\",\"profile_background_image_url\":\"http:\\\\/\\\\/abs.twimg.com\\\\/images\\\\/themes\\\\/theme1\\\\/bg.png\",\"profile_background_image_url_https\":\"https:\\\\/\\\\/abs.twimg.com\\\\/images\\\\/themes\\\\/theme1\\\\/bg.png\",\"profile_background_tile\":false,\"profile_image_url\":\"http:\\\\/\\\\/a0.twimg.com\\\\/profile_images\\\\/3632912766\\\\/2d7d0af54b7d9c97bc69d3a4cd21bf1a_normal.jpeg\",\"profile_image_url_https\":\"https:\\\\/\\\\/si0.twimg.com\\\\/profile_images\\\\/3632912766\\\\/2d7d0af54b7d9c97bc69d3a4cd21bf1a_normal.jpeg\",\"profile_banner_url\":\"https:\\\\/\\\\/pbs.twimg.com\\\\/profile_banners\\\\/718513849\\\\/1352605345\",\"profile_link_color\":\"0084B4\",\"profile_sidebar_border_color\":\"C0DEED\",\"profile_sidebar_fill_color\":\"DDEEF6\",\"profile_text_color\":\"333333\",\"profile_use_background_image\":true,\"default_profile\":true,\"default_profile_image\":false,\"following\":false,\"follow_request_sent\":false,\"notifications\":false},\"geo\":null,\"coordinates\":null,\"place\":null,\"contributors\":null,\"retweet_count\":0,\"favorite_count\":0,\"entities\":{\"hashtags\":[],\"symbols\":[],\"urls\":[],\"user_mentions\":[]},\"favorited\":false,\"retweeted\":false,\"lang\":\"en\"},{\"metadata\":{\"result_type\":\"recent\",\"iso_language_code\":\"en\"},\"created_at\":\"Sat Oct 05 22:07:23 +0000 2013\",\"id\":386613613940989954,\"id_str\":\"386613613940989954\",\"text\":\"\\\\ud83d\\\\udc95\\\\u2600\\\\ud83d\\\\udc95\\\\ud83d\\\\udc2f\\\\ud83d\\\\udc95\\\\u2600\\\\ud83d\\\\udc95\\\\ud83d\\\\udc2f\\\\ud83d\\\\udc95\\\\u2600\\\\ud83d\\\\udc95\\\\ud83d\\\\udc2f\\\\n\\\\nHI \\\\ud83d\\\\ude0a\\\\n\\\\nBE MY 1\\\\/5 MAYBE? \\\\ud83d\\\\ude48\\\\n\\\\nI LOVE YOU SO MUCH \\\\u2764\\\\n\\\\nIT WOULD MEAN A LOT \\\\ud83d\\\\ude01\\\\n\\\\n@NiallOfficial @Harry_Styles @Real_Liam_Payne \\\\ud83d\\\\ude18\\\\n\\\\nx220\",\"source\":\"\\\\u003ca href=\\\\\"http:\\\\/\\\\/twitter.com\\\\/download\\\\/iphone\\\\\" rel=\\\\\"nofollow\\\\\"\\\\u003eTwitter for iPhone\\\\u003c\\\\/a\\\\u003e\",\"truncated\":false,\"in_reply_to_status_id\":null,\"in_reply_to_status_id_str\":null,\"in_reply_to_user_id\":null,\"in_reply_to_user_id_str\":null,\"in_reply_to_screen_name\":null,\"user\":{\"id\":1552226923,\"id_str\":\"1552226923\",\"name\":\"Karla \\\\u2661\\\\u2661 \",\"screen_name\":\"1D_TW_5SOS\",\"location\":\"Miami\",\"description\":\"One Direction, The Wanted, 5 Seconds of Summer, & The Janoskians \\\\u2764 Cake & Max Insta: Karlaes08\",\"url\":\"http:\\\\/\\\\/t.co\\\\/hj9zRchwjQ\",\"entities\":{\"url\":{\"urls\":[{\"url\":\"http:\\\\/\\\\/t.co\\\\/hj9zRchwjQ\",\"expanded_url\":\"http:\\\\/\\\\/wakingupintherealworld.tumblr.com\",\"display_url\":\"wakingupintherealworld.tumblr.com\",\"indices\":[0,22]}]},\"description\":{\"urls\":[]}},\"protected\":false,\"followers_count\":473,\"friends_count\":106,\"listed_count\":6,\"created_at\":\"Fri Jun 28 04:34:22 +0000 2013\",\"favourites_count\":9623,\"utc_offset\":null,\"time_zone\":null,\"geo_enabled\":true,\"verified\":false,\"statuses_count\":13752,\"lang\":\"en\",\"contributors_enabled\":false,\"is_translator\":false,\"profile_background_color\":\"C0DEED\",\"profile_background_image_url\":\"http:\\\\/\\\\/a0.twimg.com\\\\/profile_background_images\\\\/378800000074330919\\\\/da1fd4fe5dd0ed757f751ee0a9d03b0e.png\",\"profile_background_image_url_https\":\"https:\\\\/\\\\/si0.twimg.com\\\\/profile_background_images\\\\/378800000074330919\\\\/da1fd4fe5dd0ed757f751ee0a9d03b0e.png\",\"profile_background_tile\":true,\"profile_image_url\":\"http:\\\\/\\\\/a0.twimg.com\\\\/profile_images\\\\/378800000494449852\\\\/3ffcd35acbaf8173b2082d5a29524ad5_normal.jpeg\",\"profile_image_url_https\":\"https:\\\\/\\\\/si0.twimg.com\\\\/profile_images\\\\/378800000494449852\\\\/3ffcd35acbaf8173b2082d5a29524ad5_normal.jpeg\",\"profile_banner_url\":\"https:\\\\/\\\\/pbs.twimg.com\\\\/profile_banners\\\\/1552226923\\\\/1379556214\",\"profile_link_color\":\"0084B4\",\"profile_sidebar_border_color\":\"000000\",\"profile_sidebar_fill_color\":\"DDEEF6\",\"profile_text_color\":\"333333\",\"profile_use_background_image\":true,\"default_profile\":false,\"default_profile_image\":false,\"following\":false,\"follow_request_sent\":false,\"notifications\":false},\"geo\":null,\"coordinates\":null,\"place\":null,\"contributors\":null,\"retweet_count\":0,\"favorite_count\":0,\"entities\":{\"hashtags\":[],\"symbols\":[],\"urls\":[],\"user_mentions\":[{\"screen_name\":\"NiallOfficial\",\"name\":\"Niall Horan\",\"id\":105119490,\"id_str\":\"105119490\",\"indices\":[85,99]},{\"screen_name\":\"Harry_Styles\",\"name\":\"Harry Styles\",\"id\":181561712,\"id_str\":\"181561712\",\"indices\":[100,113]},{\"screen_name\":\"Real_Liam_Payne\",\"name\":\"Liam Payne\",\"id\":158314798,\"id_str\":\"158314798\",\"indices\":[114,130]}]},\"favorited\":false,\"retweeted\":false,\"lang\":\"en\"},{\"metadata\":{\"result_type\":\"recent\",\"iso_language_code\":\"en\"},\"created_at\":\"Sat Oct 05 22:07:22 +0000 2013\",\"id\":386613613097525248,\"id_str\":\"386613613097525248\",\"text\":\"@HollyXanthe hi I saw your twit account and think your hot. KlK me - sexymon89\",\"source\":\"web\",\"truncated\":false,\"in_reply_to_status_id\":386613538237972480,\"in_reply_to_status_id_str\":\"386613538237972480\",\"in_reply_to_user_id\":311973652,\"in_reply_to_user_id_str\":\"311973652\",\"in_reply_to_screen_name\":\"HollyXanthe\",\"user\":{\"id\":1938929376,\"id_str\":\"1938929376\",\"name\":\"Jeri Grazier\",\"screen_name\":\"Blayneyymjfk\",\"location\":\"\",\"description\":\"\",\"url\":null,\"entities\":{\"description\":{\"urls\":[]}},\"protected\":false,\"followers_count\":0,\"friends_count\":6,\"listed_count\":0,\"created_at\":\"Sat Oct 05 22:03:36 +0000 2013\",\"favourites_count\":0,\"utc_offset\":null,\"time_zone\":null,\"geo_enabled\":false,\"verified\":false,\"statuses_count\":3,\"lang\":\"en\",\"contributors_enabled\":false,\"is_translator\":false,\"profile_background_color\":\"C0DEED\",\"profile_background_image_url\":\"http:\\\\/\\\\/abs.twimg.com\\\\/images\\\\/themes\\\\/theme1\\\\/bg.png\",\"profile_background_image_url_https\":\"https:\\\\/\\\\/abs.twimg.com\\\\/images\\\\/themes\\\\/theme1\\\\/bg.png\",\"profile_background_tile\":false,\"profile_image_url\":\"http:\\\\/\\\\/a0.twimg.com\\\\/profile_images\\\\/378800000554047952\\\\/5a22a74e1c56ee1428887c23a836abd4_normal.jpeg\",\"profile_image_url_https\":\"https:\\\\/\\\\/si0.twimg.com\\\\/profile_images\\\\/378800000554047952\\\\/5a22a74e1c56ee1428887c23a836abd4_normal.jpeg\",\"profile_link_color\":\"0084B4\",\"profile_sidebar_border_color\":\"C0DEED\",\"profile_sidebar_fill_color\":\"DDEEF6\",\"profile_text_color\":\"333333\",\"profile_use_background_image\":true,\"default_profile\":true,\"default_profile_image\":false,\"following\":false,\"follow_request_sent\":false,\"notifications\":false},\"geo\":null,\"coordinates\":null,\"place\":null,\"contributors\":null,\"retweet_count\":0,\"favorite_count\":0,\"entities\":{\"hashtags\":[],\"symbols\":[],\"urls\":[],\"user_mentions\":[{\"screen_name\":\"HollyXanthe\",\"name\":\"Holly Xan\\\\u2020he\\\\u262f\",\"id\":311973652,\"id_str\":\"311973652\",\"indices\":[0,12]}]},\"favorited\":false,\"retweeted\":false,\"lang\":\"en\"},{\"metadata\":{\"result_type\":\"recent\",\"iso_language_code\":\"en\"},\"created_at\":\"Sat Oct 05 22:07:22 +0000 2013\",\"id\":386613613089525760,\"id_str\":\"386613613089525760\",\"text\":\"@piriweepu Hi Piri; huge respect from a Welsh\\\\/ London Irish supporter.\",\"source\":\"\\\\u003ca href=\\\\\"http:\\\\/\\\\/twitter.com\\\\/download\\\\/iphone\\\\\" rel=\\\\\"nofollow\\\\\"\\\\u003eTwitter for iPhone\\\\u003c\\\\/a\\\\u003e\",\"truncated\":false,\"in_reply_to_status_id\":null,\"in_reply_to_status_id_str\":null,\"in_reply_to_user_id\":99002197,\"in_reply_to_user_id_str\":\"99002197\",\"in_reply_to_screen_name\":\"piriweepu\",\"user\":{\"id\":513714414,\"id_str\":\"513714414\",\"name\":\"Nick James\",\"screen_name\":\"Nickjames40Nick\",\"location\":\"\",\"description\":\"Rugby nut (London Irish and Wales); classical\\\\/flamenco guitar; love the sea and surf, great food; interest in law; hubby & Dad of 3. RT\\'s not an endorsement!\",\"url\":null,\"entities\":{\"description\":{\"urls\":[]}},\"protected\":false,\"followers_count\":49,\"friends_count\":480,\"listed_count\":0,\"created_at\":\"Sat Mar 03 23:20:01 +0000 2012\",\"favourites_count\":102,\"utc_offset\":null,\"time_zone\":null,\"geo_enabled\":false,\"verified\":false,\"statuses_count\":2430,\"lang\":\"en\",\"contributors_enabled\":false,\"is_translator\":false,\"profile_background_color\":\"C0DEED\",\"profile_background_image_url\":\"http:\\\\/\\\\/abs.twimg.com\\\\/images\\\\/themes\\\\/theme1\\\\/bg.png\",\"profile_background_image_url_https\":\"https:\\\\/\\\\/abs.twimg.com\\\\/images\\\\/themes\\\\/theme1\\\\/bg.png\",\"profile_background_tile\":false,\"profile_image_url\":\"http:\\\\/\\\\/a0.twimg.com\\\\/profile_images\\\\/378800000426358918\\\\/d343a5b6b251eafb4ca3cf38bd3521ca_normal.jpeg\",\"profile_image_url_https\":\"https:\\\\/\\\\/si0.twimg.com\\\\/profile_images\\\\/378800000426358918\\\\/d343a5b6b251eafb4ca3cf38bd3521ca_normal.jpeg\",\"profile_link_color\":\"0084B4\",\"profile_sidebar_border_color\":\"C0DEED\",\"profile_sidebar_fill_color\":\"DDEEF6\",\"profile_text_color\":\"333333\",\"profile_use_background_image\":true,\"default_profile\":true,\"default_profile_image\":false,\"following\":false,\"follow_request_sent\":false,\"notifications\":false},\"geo\":null,\"coordinates\":null,\"place\":null,\"contributors\":null,\"retweet_count\":0,\"favorite_count\":0,\"entities\":{\"hashtags\":[],\"symbols\":[],\"urls\":[],\"user_mentions\":[{\"screen_name\":\"piriweepu\",\"name\":\"Piri Weepu\",\"id\":99002197,\"id_str\":\"99002197\",\"indices\":[0,10]}]},\"favorited\":false,\"retweeted\":false,\"lang\":\"en\"}],\"search_metadata\":{\"completed_in\":0.028,\"max_id\":386613623163875328,\"max_id_str\":\"386613623163875328\",\"next_results\":\"?max_id=386613613089525759&q=hi&include_entities=1\",\"query\":\"hi\",\"refresh_url\":\"?since_id=386613623163875328&q=hi&include_entities=1\",\"count\":15,\"since_id\":0,\"since_id_str\":\"0\"}}'"
     ],
     "language": "python",
     "metadata": {},
     "outputs": [],
     "prompt_number": 321
    },
    {
     "cell_type": "code",
     "collapsed": false,
     "input": [
      "test = json.loads(z2)"
     ],
     "language": "python",
     "metadata": {},
     "outputs": [],
     "prompt_number": 322
    },
    {
     "cell_type": "heading",
     "level": 1,
     "metadata": {},
     "source": [
      "I also need to do choose Date"
     ]
    },
    {
     "cell_type": "heading",
     "level": 1,
     "metadata": {},
     "source": [
      "TEST FUNCTIONS"
     ]
    },
    {
     "cell_type": "code",
     "collapsed": false,
     "input": [
      "dictionary = convertJsontoDict(z2)\n",
      "search, sort_res = parseAndSort(dictionary)\n",
      "oneday, oneweek, onemonth, oneyear = splitByTime(sort_res)"
     ],
     "language": "python",
     "metadata": {},
     "outputs": [
      {
       "output_type": "stream",
       "stream": "stdout",
       "text": [
        "15\n"
       ]
      }
     ],
     "prompt_number": 373
    },
    {
     "cell_type": "code",
     "collapsed": false,
     "input": [
      "len(oneday), len(oneweek), len(onemonth), len(oneyear)"
     ],
     "language": "python",
     "metadata": {},
     "outputs": [
      {
       "metadata": {},
       "output_type": "pyout",
       "prompt_number": 356,
       "text": [
        "(79, 79, 79, 79)"
       ]
      }
     ],
     "prompt_number": 356
    },
    {
     "cell_type": "code",
     "collapsed": false,
     "input": [],
     "language": "python",
     "metadata": {},
     "outputs": []
    }
   ],
   "metadata": {}
  }
 ]
}